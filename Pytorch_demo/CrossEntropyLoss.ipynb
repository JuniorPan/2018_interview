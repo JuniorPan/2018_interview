{
 "cells": [
  {
   "cell_type": "code",
   "execution_count": 17,
   "metadata": {},
   "outputs": [
    {
     "name": "stdout",
     "output_type": "stream",
     "text": [
      "output: \n",
      " tensor([[0.5000, 0.5000, 0.5000],\n",
      "        [0.5000, 0.5000, 0.5000]], grad_fn=<MulBackward0>)\n",
      "target: \n",
      " tensor([0, 1])\n"
     ]
    },
    {
     "data": {
      "text/plain": [
       "tensor([1.0986, 1.0986], grad_fn=<NllLossBackward>)"
      ]
     },
     "execution_count": 17,
     "metadata": {},
     "output_type": "execute_result"
    }
   ],
   "source": [
    "import torch \n",
    "import torch.nn as nn\n",
    "import numpy as np\n",
    "import math\n",
    "\n",
    "\n",
    "loss_f = nn.CrossEntropyLoss(weight=None, reduction='none')\n",
    "# 生成网络输出 以及 目标输出\n",
    "output = torch.ones(2, 3, requires_grad=True) * 0.5      # 假设一个三分类任务，batchsize=2，假设每个神经元输出都为0.5\n",
    "target = torch.from_numpy(np.array([0, 1])).type(torch.LongTensor)\n",
    "\n",
    "print('output: \\n', output)\n",
    "print('target: \\n', target)\n",
    "\n",
    "loss = loss_f(output, target)\n",
    "\n",
    "loss\n"
   ]
  },
  {
   "cell_type": "code",
   "execution_count": 18,
   "metadata": {},
   "outputs": [
    {
     "name": "stdout",
     "output_type": "stream",
     "text": [
      "---------------------------------------------------  手动计算\n",
      "第一个样本的loss:  1.0986122886681098\n"
     ]
    }
   ],
   "source": [
    "# 熟悉计算公式，手动计算第一个样本\n",
    "output = output[0].detach().numpy()\n",
    "output_1 = output[0]              # 第一个样本的输出值\n",
    "target_1 = target[0].numpy()\n",
    "\n",
    "# 第一项\n",
    "x_class = output[target_1]\n",
    "# 第二项\n",
    "exp = math.e\n",
    "sigma_exp_x = pow(exp, output[0]) + pow(exp, output[1]) + pow(exp, output[2])\n",
    "log_sigma_exp_x = math.log(sigma_exp_x)\n",
    "# 两项相加\n",
    "loss_1 = -x_class + log_sigma_exp_x\n",
    "print('---------------------------------------------------  手动计算')\n",
    "print('第一个样本的loss: ', loss_1)"
   ]
  },
  {
   "cell_type": "code",
   "execution_count": 19,
   "metadata": {},
   "outputs": [
    {
     "name": "stdout",
     "output_type": "stream",
     "text": [
      "\n",
      "loss: \n",
      " tensor([-0.4200, -0.2400], grad_fn=<NllLossBackward>)\n",
      "\n",
      "第一个样本是0类，loss = -(0.6*0.7)=-0.42000001668930054\n",
      "\n",
      "第二个样本是0类，loss = -(0.6*0.4)=-0.24000000953674316\n"
     ]
    }
   ],
   "source": [
    "# 各类别权重\n",
    "weight = torch.from_numpy(np.array([0.6, 0.2, 0.2])).float()\n",
    "\n",
    "# 生成网络输出 以及 目标输出\n",
    "output = torch.from_numpy(np.array([[0.7, 0.2, 0.1], [0.4, 1.2, 0.4]])).float()  \n",
    "output.requires_grad = True\n",
    "target = torch.from_numpy(np.array([0, 0])).type(torch.LongTensor)\n",
    "\n",
    "\n",
    "loss_f = nn.NLLLoss(weight=weight, size_average=True, reduce=False)\n",
    "loss = loss_f(output, target)\n",
    "\n",
    "print('\\nloss: \\n', loss)\n",
    "print('\\n第一个样本是0类，loss = -(0.6*0.7)={}'.format(loss[0]))\n",
    "print('\\n第二个样本是0类，loss = -(0.6*0.4)={}'.format(loss[1]))"
   ]
  },
  {
   "cell_type": "code",
   "execution_count": null,
   "metadata": {},
   "outputs": [],
   "source": []
  }
 ],
 "metadata": {
  "kernelspec": {
   "display_name": "Python 3",
   "language": "python",
   "name": "python3"
  },
  "language_info": {
   "codemirror_mode": {
    "name": "ipython",
    "version": 3
   },
   "file_extension": ".py",
   "mimetype": "text/x-python",
   "name": "python",
   "nbconvert_exporter": "python",
   "pygments_lexer": "ipython3",
   "version": "3.7.6"
  }
 },
 "nbformat": 4,
 "nbformat_minor": 4
}
