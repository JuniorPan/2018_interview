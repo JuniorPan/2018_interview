{
 "cells": [
  {
   "cell_type": "code",
   "execution_count": 10,
   "metadata": {},
   "outputs": [
    {
     "name": "stdout",
     "output_type": "stream",
     "text": [
      "随机特征向量:\n",
      "tensor([[ 1.9269,  1.4873,  0.9007, -2.1055,  0.6784, -1.2345, -0.0431, -1.6047,\n",
      "         -0.7521,  1.6487],\n",
      "        [-0.3925, -1.4036, -0.7279, -0.5594, -2.3169, -0.2168, -1.3847, -0.8712,\n",
      "         -0.2234,  1.7174],\n",
      "        [ 0.3189, -0.4245, -0.8286,  0.3309, -1.5576,  0.9956, -0.8798, -0.6011,\n",
      "         -1.2742,  2.1228]], requires_grad=True)\n",
      "\n",
      "随机目标:\n",
      "tensor([2, 1, 0])\n",
      "\n",
      "InfoNCE损失:\n",
      "5.968507289886475\n"
     ]
    }
   ],
   "source": [
    "import torch\n",
    "import torch.nn as nn\n",
    "import torch.nn.functional as F\n",
    "\n",
    "class InfoNCELoss(nn.Module):\n",
    "    def __init__(self, temperature=1.0):\n",
    "        super(InfoNCELoss, self).__init__()\n",
    "        self.temperature = temperature\n",
    "\n",
    "    def forward(self, features, targets):\n",
    "        # 对特征进行标准化\n",
    "        features = F.normalize(features, p=2, dim=1)\n",
    "\n",
    "        # 计算相似性矩阵\n",
    "        similarity_matrix = torch.matmul(features, features.t()) / self.temperature\n",
    "\n",
    "        # 使用对角线作为正样本\n",
    "        positives = torch.eye(features.size(0), device=features.device)[targets].unsqueeze(1)\n",
    "\n",
    "        # 计算logits（已更正的版本）\n",
    "        logits = similarity_matrix - torch.max(similarity_matrix, dim=1, keepdim=True)[0]\n",
    "        \n",
    "        # 计算正样本的负对数似然\n",
    "        loss = F.cross_entropy(logits, targets.squeeze())\n",
    "\n",
    "        return loss\n",
    "\n",
    "# 示例用法：\n",
    "\n",
    "# 为了可重复性，设置随机种子\n",
    "torch.manual_seed(42)\n",
    "\n",
    "# 定义特征维度和批量大小\n",
    "num_features = 10\n",
    "batch_size = 3\n",
    "\n",
    "# 生成随机特征向量和相应的目标\n",
    "features = torch.randn(batch_size, num_features, requires_grad=True)\n",
    "targets = torch.randint(0, batch_size, (batch_size, ), dtype=torch.long)  # 将目标张量改为一维\n",
    "\n",
    "# 创建InfoNCELoss类的实例\n",
    "info_nce_loss = InfoNCELoss(temperature=0.1)\n",
    "\n",
    "# 计算损失\n",
    "loss = info_nce_loss(features, targets)\n",
    "\n",
    "# 打印结果\n",
    "print(\"随机特征向量:\")\n",
    "print(features)\n",
    "print(\"\\n随机目标:\")\n",
    "print(targets)\n",
    "print(\"\\nInfoNCE损失:\")\n",
    "print(loss.item())\n"
   ]
  },
  {
   "cell_type": "code",
   "execution_count": null,
   "metadata": {},
   "outputs": [],
   "source": []
  }
 ],
 "metadata": {
  "kernelspec": {
   "display_name": "Python 3",
   "language": "python",
   "name": "python3"
  },
  "language_info": {
   "codemirror_mode": {
    "name": "ipython",
    "version": 3
   },
   "file_extension": ".py",
   "mimetype": "text/x-python",
   "name": "python",
   "nbconvert_exporter": "python",
   "pygments_lexer": "ipython3",
   "version": "3.7.6"
  }
 },
 "nbformat": 4,
 "nbformat_minor": 4
}
