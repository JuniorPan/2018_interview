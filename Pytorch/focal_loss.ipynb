{
 "cells": [
  {
   "cell_type": "code",
   "execution_count": 2,
   "metadata": {},
   "outputs": [],
   "source": [
    "import torch\n",
    "import torch.nn.functional as F\n",
    "import torch.nn as nn\n",
    "\n",
    "class FocalLoss(nn.Module):\n",
    "    def __init__(self, alpha=None, gamma=2, reduction='mean'):\n",
    "        super(FocalLoss, self).__init__()\n",
    "        self.alpha = alpha\n",
    "        self.gamma = gamma\n",
    "        self.reduction = reduction\n",
    "\n",
    "    def forward(self, inputs, targets):\n",
    "        ce_loss = F.cross_entropy(inputs, targets, reduction='none')\n",
    "        pt = torch.exp(-ce_loss)\n",
    "        focal_loss = (1 - pt) ** self.gamma * ce_loss\n",
    "\n",
    "        if self.alpha is not None:\n",
    "            alpha_t = self.alpha[targets]\n",
    "            focal_loss = alpha_t * focal_loss\n",
    "\n",
    "        if self.reduction == 'mean':\n",
    "            return focal_loss.mean()\n",
    "        elif self.reduction == 'sum':\n",
    "            return focal_loss.sum()\n",
    "        else:\n",
    "            return focal_loss"
   ]
  },
  {
   "cell_type": "code",
   "execution_count": 3,
   "metadata": {},
   "outputs": [
    {
     "name": "stdout",
     "output_type": "stream",
     "text": [
      "Random Input Tensor:\n",
      "tensor([[ 0.3367,  0.1288,  0.2345,  0.2303, -1.1229],\n",
      "        [-0.1863,  2.2082, -0.6380,  0.4617,  0.2674],\n",
      "        [ 0.5349,  0.8094,  1.1103, -1.6898, -0.9890]], requires_grad=True)\n",
      "\n",
      "Random Target Tensor:\n",
      "tensor([0, 4, 3])\n",
      "\n",
      "Focal Loss:\n",
      "0.8353108763694763\n"
     ]
    }
   ],
   "source": [
    "# Set random seed for reproducibility\n",
    "torch.manual_seed(42)\n",
    "\n",
    "# Define the number of classes and batch size\n",
    "num_classes = 5\n",
    "batch_size = 3\n",
    "\n",
    "# Generate random input and target tensors\n",
    "inputs = torch.randn(batch_size, num_classes, requires_grad=True)\n",
    "targets = torch.randint(0, num_classes, (batch_size,), dtype=torch.long)\n",
    "\n",
    "# Create an instance of the FocalLoss class\n",
    "focal_loss = FocalLoss(alpha=torch.tensor([0.2, 0.3, 0.1, 0.4, 0.5]), gamma=2, reduction='mean')\n",
    "\n",
    "# Calculate the loss\n",
    "loss = focal_loss(inputs, targets)\n",
    "\n",
    "# Print the results\n",
    "print(\"Random Input Tensor:\")\n",
    "print(inputs)\n",
    "print(\"\\nRandom Target Tensor:\")\n",
    "print(targets)\n",
    "print(\"\\nFocal Loss:\")\n",
    "print(loss.item())"
   ]
  },
  {
   "cell_type": "code",
   "execution_count": null,
   "metadata": {},
   "outputs": [],
   "source": []
  }
 ],
 "metadata": {
  "kernelspec": {
   "display_name": "Python 3",
   "language": "python",
   "name": "python3"
  },
  "language_info": {
   "codemirror_mode": {
    "name": "ipython",
    "version": 3
   },
   "file_extension": ".py",
   "mimetype": "text/x-python",
   "name": "python",
   "nbconvert_exporter": "python",
   "pygments_lexer": "ipython3",
   "version": "3.7.6"
  }
 },
 "nbformat": 4,
 "nbformat_minor": 4
}
