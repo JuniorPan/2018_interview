{
 "cells": [
  {
   "cell_type": "code",
   "execution_count": 1,
   "metadata": {},
   "outputs": [
    {
     "name": "stdout",
     "output_type": "stream",
     "text": [
      "output:  tensor([[0.5000, 0.5000],\n",
      "        [0.5000, 0.5000]], grad_fn=<MulBackward0>)\n",
      "target:  tensor([[1., 1.],\n",
      "        [1., 1.]])\n",
      "\n",
      "reduce=False, 输出同维度的loss:\n",
      "tensor([[0.5000, 0.5000],\n",
      "        [0.5000, 0.5000]], grad_fn=<L1LossBackward>)\n",
      "\n",
      "size_average=True，\t求平均:\t0.5\n",
      "size_average=False，\t求和:\t2.0\n"
     ]
    }
   ],
   "source": [
    "import torch\n",
    "import torch.nn as nn\n",
    "\n",
    "\n",
    "# L1 loss\n",
    "\n",
    "# 生成网络输出 以及 目标输出\n",
    "output = torch.ones(2, 2, requires_grad=True)*0.5\n",
    "target = torch.ones(2, 2)\n",
    "\n",
    "print('output: ', output)\n",
    "print('target: ', target)\n",
    "\n",
    "\n",
    "# 设置三种不同参数的L1Loss\n",
    "reduce_False = nn.L1Loss(reduction='none')\n",
    "size_average_True = nn.L1Loss(reduction='mean')\n",
    "size_average_False = nn.L1Loss(reduction='sum')\n",
    "\n",
    "o_0 = reduce_False(output, target)\n",
    "o_1 = size_average_True(output, target)\n",
    "o_2 = size_average_False(output, target)\n",
    "\n",
    "print('\\nreduce=False, 输出同维度的loss:\\n{}\\n'.format(o_0))\n",
    "print('size_average=True，\\t求平均:\\t{}'.format(o_1))\n",
    "print('size_average=False，\\t求和:\\t{}'.format(o_2))\n",
    "\n"
   ]
  },
  {
   "cell_type": "code",
   "execution_count": 2,
   "metadata": {},
   "outputs": [
    {
     "name": "stdout",
     "output_type": "stream",
     "text": [
      "--------------------------------------------------- CrossEntropy loss: base\n",
      "loss:  tensor([1.0986, 1.0986], grad_fn=<NllLossBackward>)\n",
      "由于reduction=\"none\",所以可以看到每一个样本的loss,输出为[1.0986, 1.0986]\n"
     ]
    }
   ],
   "source": [
    "import torch\n",
    "import torch.nn as nn\n",
    "import numpy as np\n",
    "import math\n",
    "\n",
    "# ----------------------------------- CrossEntropy loss: base\n",
    "\n",
    "loss_f = nn.CrossEntropyLoss(weight=None, reduction=\"none\")\n",
    "# 生成网络输出 以及 目标输出\n",
    "output = torch.ones(2, 3, requires_grad=True) * 0.5      # 假设一个三分类任务，batchsize=2，假设每个神经元输出都为0.5\n",
    "target = torch.from_numpy(np.array([0, 1])).type(torch.LongTensor)\n",
    "\n",
    "loss = loss_f(output, target)\n",
    "\n",
    "print('--------------------------------------------------- CrossEntropy loss: base')\n",
    "print('loss: ', loss)\n",
    "print('由于reduction=\"none\",所以可以看到每一个样本的loss,输出为[1.0986, 1.0986]')\n"
   ]
  },
  {
   "cell_type": "code",
   "execution_count": 3,
   "metadata": {},
   "outputs": [
    {
     "name": "stdout",
     "output_type": "stream",
     "text": [
      "---------------------------------------------------  手动计算\n",
      "第一个样本的loss:  1.0986122886681098\n"
     ]
    }
   ],
   "source": [
    "# 熟悉计算公式，手动计算第一个样本\n",
    "output = output[0].detach().numpy()\n",
    "output_1 = output[0]              # 第一个样本的输出值\n",
    "target_1 = target[0].numpy()\n",
    "\n",
    "# 第一项\n",
    "x_class = output[target_1]\n",
    "# 第二项\n",
    "exp = math.e\n",
    "sigma_exp_x = pow(exp, output[0]) + pow(exp, output[1]) + pow(exp, output[2])\n",
    "log_sigma_exp_x = math.log(sigma_exp_x)\n",
    "# 两项相加\n",
    "loss_1 = -x_class + log_sigma_exp_x\n",
    "print('---------------------------------------------------  手动计算')\n",
    "print('第一个样本的loss: ', loss_1)"
   ]
  },
  {
   "cell_type": "code",
   "execution_count": 4,
   "metadata": {
    "slideshow": {
     "slide_type": "notes"
    }
   },
   "outputs": [
    {
     "name": "stdout",
     "output_type": "stream",
     "text": [
      "\n",
      "\n",
      "--------------------------------------------------- CrossEntropy loss: ignore_index\n",
      "ignore_index = 1:  tensor([1.0986, 0.0000, 1.0986], grad_fn=<NllLossBackward>)\n",
      "ignore_index = 2:  tensor([1.0986, 1.0986, 0.0000], grad_fn=<NllLossBackward>)\n"
     ]
    }
   ],
   "source": [
    "# ----------------------------------- CrossEntropy loss: ignore_index\n",
    "\n",
    "loss_f_1 = nn.CrossEntropyLoss(weight=None, reduction=\"none\", ignore_index=1)\n",
    "loss_f_2 = nn.CrossEntropyLoss(weight=None, reduction=\"none\", ignore_index=2)\n",
    "\n",
    "output = torch.ones(3, 3, requires_grad=True) * 0.5  # 假设一个三分类任务，batchsize为2个，假设每个神经元输出都为0.5\n",
    "target = torch.from_numpy(np.array([0, 1 , 2])).type(torch.LongTensor)\n",
    "\n",
    "loss_1 = loss_f_1(output, target)\n",
    "loss_2 = loss_f_2(output, target)\n",
    "\n",
    "print('\\n\\n--------------------------------------------------- CrossEntropy loss: ignore_index')\n",
    "print('ignore_index = 1: ', loss_1)     # 类别为1的样本的loss为0\n",
    "print('ignore_index = 2: ', loss_2)     # 类别为2的样本的loss为0"
   ]
  },
  {
   "cell_type": "code",
   "execution_count": null,
   "metadata": {},
   "outputs": [],
   "source": []
  }
 ],
 "metadata": {
  "kernelspec": {
   "display_name": "Python 3",
   "language": "python",
   "name": "python3"
  },
  "language_info": {
   "codemirror_mode": {
    "name": "ipython",
    "version": 3
   },
   "file_extension": ".py",
   "mimetype": "text/x-python",
   "name": "python",
   "nbconvert_exporter": "python",
   "pygments_lexer": "ipython3",
   "version": "3.9.17"
  }
 },
 "nbformat": 4,
 "nbformat_minor": 2
}
